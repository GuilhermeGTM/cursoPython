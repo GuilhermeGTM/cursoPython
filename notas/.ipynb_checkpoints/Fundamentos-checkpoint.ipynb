{
 "cells": [
  {
   "cell_type": "markdown",
   "id": "5db51f84",
   "metadata": {},
   "source": [
    "# Primeiro Programa"
   ]
  },
  {
   "cell_type": "code",
   "execution_count": 26,
   "id": "a7b9c09b",
   "metadata": {
    "scrolled": true
   },
   "outputs": [
    {
     "name": "stdout",
     "output_type": "stream",
     "text": [
      "Primeiro Programa\n"
     ]
    },
    {
     "data": {
      "text/plain": [
       "3"
      ]
     },
     "execution_count": 26,
     "metadata": {},
     "output_type": "execute_result"
    }
   ],
   "source": [
    "print('Primeiro Programa')\n",
    "# a \\ está juntando a linha 3 com a 2 fazendo a soma\n",
    "1 \\\n",
    "  + 2"
   ]
  },
  {
   "cell_type": "code",
   "execution_count": 18,
   "id": "588512ed",
   "metadata": {},
   "outputs": [
    {
     "data": {
      "text/plain": [
       "15"
      ]
     },
     "execution_count": 18,
     "metadata": {},
     "output_type": "execute_result"
    }
   ],
   "source": [
    "1 + 2 + 3 \n",
    "#Sempre vai exebir o ultimo a não se que coloque o print\n",
    "4 + 5 + 6\n"
   ]
  },
  {
   "cell_type": "markdown",
   "id": "0a4cdfa6",
   "metadata": {},
   "source": [
    "# Tipos Basicos"
   ]
  },
  {
   "cell_type": "code",
   "execution_count": 17,
   "id": "8a7dd516",
   "metadata": {},
   "outputs": [
    {
     "name": "stdout",
     "output_type": "stream",
     "text": [
      "True\n",
      "False\n",
      "2.2\n",
      "Aqui eu falo na minha lingua\n",
      "tbm funciona\n",
      "voce é muito muito muito legal\n",
      "[1, 2, 3]\n",
      "{'nome': 'Pedro', 'idade': 22}\n",
      "None\n"
     ]
    }
   ],
   "source": [
    "#tipo boolean\n",
    "print(True)\n",
    "#tipo boolean\n",
    "print(False)\n",
    "#float com inteiro\n",
    "print(1.2 + 1)\n",
    "#String\n",
    "print('Aqui eu falo na minha lingua')\n",
    "#string com aspas duplas\n",
    "print(\"tbm funciona\")\n",
    "#concatenar um texto com uma multiplocação\n",
    "print('voce é ' + 3 *'muito ' + 'legal')\n",
    "#print(3 +'3')-> ambiquidade\n",
    "#Lista\n",
    "print([1, 2, 3])\n",
    "#Dicionario\n",
    "print({'nome': 'Pedro', 'idade': 22})\n",
    "#nulo\n",
    "print(None)"
   ]
  },
  {
   "cell_type": "markdown",
   "id": "6db4c26b",
   "metadata": {},
   "source": [
    "# Variáveis"
   ]
  },
  {
   "cell_type": "code",
   "execution_count": 16,
   "id": "b3e8ae17",
   "metadata": {},
   "outputs": [
    {
     "name": "stdout",
     "output_type": "stream",
     "text": [
      "15.2\n",
      "Agora sou uma string!\n"
     ]
    },
    {
     "data": {
      "text/plain": [
       "5.2"
      ]
     },
     "execution_count": 16,
     "metadata": {},
     "output_type": "execute_result"
    }
   ],
   "source": [
    "# tipo inteiro\n",
    "a = 10\n",
    "# tipo float\n",
    "b = 5.2\n",
    "# misturou os 2 tipos\n",
    "print(a + b)\n",
    "\n",
    "# a mesma variavel agora passou a ser string\n",
    "a = 'Agora sou uma string!'\n",
    "print(a)\n",
    "\n",
    "# não vai sair pq ela é uma string agora precisa de print('')\n",
    "a\n",
    "# ela n foi mudada continua sendo um float por isso vai aparecer na saida\n",
    "b \n",
    "\n",
    "#print(a + b) -> ambiguidade"
   ]
  },
  {
   "cell_type": "markdown",
   "id": "3d52b232",
   "metadata": {},
   "source": [
    "# Comentários"
   ]
  },
  {
   "cell_type": "code",
   "execution_count": 15,
   "id": "608d1f68",
   "metadata": {},
   "outputs": [
    {
     "name": "stdout",
     "output_type": "stream",
     "text": [
      "994.25\n",
      "Fim de verdade\n",
      "agora sim Fim de verdade\n"
     ]
    }
   ],
   "source": [
    "#Minhas variaveis\n",
    "salario = 3450.45\n",
    "despesas = 2456.2\n",
    "\n",
    "\"\"\"\n",
    "A ideia é calcular o quanto vai sobrar\n",
    "do meu salario!\n",
    "\"\"\"\n",
    "\n",
    "print(salario - despesas)\n",
    "#print('Fim')\n",
    "print('Fim de verdade') #comentar aqui tbm vale!\n",
    "\n",
    "'''\n",
    "A ideia é calcular o quanto vai sobrar\n",
    "do meu salario!\n",
    "'''\n",
    "\n",
    "print('agora sim Fim de verdade')"
   ]
  },
  {
   "cell_type": "markdown",
   "id": "5fc6a8a2",
   "metadata": {},
   "source": [
    "# Operadores Aritméticos"
   ]
  },
  {
   "cell_type": "code",
   "execution_count": 14,
   "id": "82a15de3",
   "metadata": {},
   "outputs": [
    {
     "name": "stdout",
     "output_type": "stream",
     "text": [
      "5\n",
      "-3\n",
      "10.6\n",
      "3.1333333333333333\n",
      "3.0\n",
      "256\n",
      "1\n",
      "24\n"
     ]
    }
   ],
   "source": [
    "#soma\n",
    "print(2 + 3)\n",
    "#adição\n",
    "print(4 - 7)\n",
    "#multiplicação\n",
    "print(2 * 5.3)\n",
    "#divisão\n",
    "print(9.4 / 3)\n",
    "# // resulta no numero inteiro\n",
    "print(9.4 // 3)\n",
    "# eleva o numero a 8 no exemplo\n",
    "print(2 ** 8)\n",
    "# % pega o resto da divisão\n",
    "print(10 % 3) \n",
    "\n",
    "a = 12\n",
    "# o b tem o mesmo valor de a que é 12\n",
    "b = a\n",
    "print(a+b)"
   ]
  },
  {
   "cell_type": "code",
   "execution_count": null,
   "id": "ec0eabea",
   "metadata": {},
   "outputs": [],
   "source": [
    "#Desafio calcular a % que é gastado do salario\n",
    "salario = 3450.45\n",
    "despesas = 2456.2\n",
    "\n",
    "#Resposta\n",
    "percentual_comprometido = despesas / salario * 100\n",
    "percentual_comprometido"
   ]
  },
  {
   "cell_type": "markdown",
   "id": "2ee2cec0",
   "metadata": {},
   "source": [
    "# Operadores relacionais"
   ]
  },
  {
   "cell_type": "code",
   "execution_count": 13,
   "id": "5d07e3eb",
   "metadata": {},
   "outputs": [
    {
     "name": "stdout",
     "output_type": "stream",
     "text": [
      "False\n",
      "True\n",
      "True\n",
      "False\n",
      "True\n",
      "True\n",
      "False\n"
     ]
    }
   ],
   "source": [
    "# 3 maior que 4?\n",
    "print(3 > 4)\n",
    "# 4 é maior e igual a 3?\n",
    "print(4 >= 3)\n",
    "# 1 é menor que 2?\n",
    "print(1 < 2)\n",
    "# 3 é menor e igual a 1?\n",
    "print(3 <= 1)\n",
    "# 3 é diferente e 2?\n",
    "print(3 != 2)\n",
    "# 3 é igual a 3?\n",
    "print(3 == 3)\n",
    "# 2(inteiro) é igual a '2'(string)?\n",
    "print(2 == '2')"
   ]
  },
  {
   "cell_type": "markdown",
   "id": "0d0ba43d",
   "metadata": {},
   "source": [
    "# Operadores de atribuição"
   ]
  },
  {
   "cell_type": "code",
   "execution_count": 12,
   "id": "9a070836",
   "metadata": {},
   "outputs": [
    {
     "name": "stdout",
     "output_type": "stream",
     "text": [
      "10\n",
      "5\n",
      "15\n",
      "12\n",
      "24\n",
      "6.0\n",
      "2.0\n",
      "256.0\n",
      "1.0\n"
     ]
    }
   ],
   "source": [
    "#valor de a =3\n",
    "a = 3\n",
    "#valor a + 7\n",
    "a = a + 7\n",
    "print(a)\n",
    "\n",
    "#subistituiu o valor de a por 5\n",
    "a = 5\n",
    "print(a)\n",
    "\n",
    "#acrecenta +10 no valor de a, que é a mesma coisa que a = a +10\n",
    "a += 10\n",
    "print(a)\n",
    "\n",
    "# está diminuindo o valor de a em 3, que é a mesma coisa que a = a - 3\n",
    "a -= 3\n",
    "print(a)\n",
    "\n",
    "# está pegando o ultimo e multiplicando a valor de a em 3\n",
    "a *= 2\n",
    "print(a)\n",
    "\n",
    "# está pegando o ultimo a e dividindo o valor de a em 4\n",
    "a /= 4\n",
    "print(a)\n",
    "\n",
    "#está pegando o ultimo a e dividindo por 4 e pegando o resto\n",
    "a %= 4\n",
    "print(a)\n",
    "\n",
    "#está pegando o ultimo valor de a e elevando a 8 \n",
    "a **= 8\n",
    "print(a)\n",
    "\n",
    "#está pegando o ultimo valor de a e divindo por 256 com o resultado em inteiro por causa das //\n",
    "a //= 256\n",
    "print(a)"
   ]
  },
  {
   "cell_type": "markdown",
   "id": "e80fe529",
   "metadata": {},
   "source": [
    "# Operadores Logicos"
   ]
  },
  {
   "cell_type": "code",
   "execution_count": 11,
   "id": "3e596b83",
   "metadata": {
    "scrolled": true
   },
   "outputs": [
    {
     "data": {
      "text/plain": [
       "True"
      ]
     },
     "execution_count": 11,
     "metadata": {},
     "output_type": "execute_result"
    }
   ],
   "source": [
    "#verdadeiro ou falso\n",
    "True or False\n",
    "# 7 diferente de 3(verdadeiro), e 2 > 3(falso)\n",
    "7 != 3 and 2 > 3\n",
    "\n",
    "#tabela verdade do AND\n",
    "#Só vai ser True se os 2 forem True\n",
    "True and True #True\n",
    "True and False #False\n",
    "False and True #False\n",
    "False and False #False\n",
    "\n",
    "True and True and True and True and True #True\n",
    "#basta uma ser False que o resultado é falso\n",
    "True and False and True and True and True #False\n",
    "\n",
    "#tabela verdade do OR\n",
    "#Só vai ser verdadeiro se apenas 1 for True\n",
    "True or True #True\n",
    "True or False #True\n",
    "False or True  #True\n",
    "False or False #False\n",
    "\n",
    "False or False or True or False or False #True\n",
    "\n",
    "#tabela verdade do XOR\n",
    "#Só vai ser True se os 2 resultados forem diferentes !=\n",
    "True != True  #False\n",
    "True != False #True\n",
    "False != True #True\n",
    "False != False #False\n",
    "\n",
    "#Operador negação(unario)\n",
    "#not ele inverte o resultado\n",
    "not True #False\n",
    "not False #True\n",
    "\n",
    "#0 é falso\n",
    "not 0  #True\n",
    "#qualquer numero é verdadeiro\n",
    "not 1 #False\n",
    "#negando duas vezes volta para verdadeiro\n",
    "not not -1 #True\n",
    "not not True #True\n",
    "\n",
    "\n",
    "#CUIDADO Operador bit a bit!\n",
    "# & = e\n",
    "True & False #False\n",
    "# | = ou\n",
    "False | True #True\n",
    "# ^ = diferente !=\n",
    "True ^ False #True\n",
    "\n",
    "# AND bit-a-bit   \n",
    "# 3 = 11\n",
    "# 2 = 10\n",
    "# _ = 10\n",
    "3 & 2 # 2\n",
    "\n",
    "# OR bit-a-bit \n",
    "# 3 = 11\n",
    "# 2 = 10\n",
    "# _ = 11\n",
    "3 | 2 # 3\n",
    "\n",
    "# XOR bit-a-bit \n",
    "# 3 = 11\n",
    "# 2 = 10\n",
    "# _ = 01\n",
    "3 ^ 2 # 1\n",
    "\n",
    "#um pouco de realidade\n",
    "saldo = 1000\n",
    "salario = 4000\n",
    "despesas = 2967\n",
    "\n",
    "meta = saldo and salario - despesas >= 0.2 * salario\n",
    "meta # True\n",
    "\n",
    "saldo = 1000\n",
    "salario = 4000\n",
    "despesas = 3967\n",
    "\n",
    "meta = saldo and salario - despesas >= 0.2 * salario\n",
    "meta # False \n",
    "\n",
    "\n",
    "saldo = 1000\n",
    "salario = 4000\n",
    "despesas = 2967\n",
    "\n",
    "#Outra maneira de fazer o mesmo\n",
    "saldo_positivo = saldo > 0\n",
    "despesas_controladas = salario - despesas >= 0.2 * salario\n",
    "meta = saldo_positivo and despesas_controladas\n",
    "meta # True"
   ]
  },
  {
   "cell_type": "code",
   "execution_count": 10,
   "id": "44e76262",
   "metadata": {},
   "outputs": [
    {
     "name": "stdout",
     "output_type": "stream",
     "text": [
      "Tv50=True, Tv32=False, Sorvete=True, Saudavel=False\n"
     ]
    }
   ],
   "source": [
    "#Desafio Operadores logicos\n",
    "\n",
    "#Os trabalhos\n",
    "trabalho_terca = True\n",
    "trabalho_quinta = True\n",
    "\n",
    "\"\"\"\n",
    "-Confirmando os 2 = tv 52' + sorvete\n",
    "-Confirmando apenas 1 = tv 32' + sorvete\n",
    "-Nenhum confirmado = fica em casa saude\n",
    "\"\"\"\n",
    "tv_50 =  trabalho_terca and trabalho_quinta\n",
    "sorvete = trabalho_terca or trabalho_quinta\n",
    "tv_32 = trabalho_terca != trabalho_quinta #xor\n",
    "mais_saudavel = not sorvete\n",
    "\n",
    "print(\"Tv50={}, Tv32={}, Sorvete={}, Saudavel={}\"\n",
    "     .format(tv_50, tv_32, sorvete, mais_saudavel))\n",
    "\n",
    "#começa em 0 a ordem tu pode modificicar --> \"{2}, {1}, {0}\".format(1, 2, 3) sainda= '3, 2, 1'\n"
   ]
  },
  {
   "cell_type": "markdown",
   "id": "ed577dbf",
   "metadata": {},
   "source": [
    "# Operados Unários"
   ]
  },
  {
   "cell_type": "code",
   "execution_count": 9,
   "id": "b0243b89",
   "metadata": {},
   "outputs": [
    {
     "data": {
      "text/plain": [
       "False"
      ]
     },
     "execution_count": 9,
     "metadata": {},
     "output_type": "execute_result"
    }
   ],
   "source": [
    "a = 3\n",
    "#a++ erro\n",
    "a += 1\n",
    "a\n",
    "#a-- erro\n",
    "#++a ele mantem o mesmo valor\n",
    "#-a deixa negativo\n",
    "# a = -a esse operador \n",
    "#+a deixa positivo\n",
    " \n",
    "\n",
    "not 0 #True\n",
    "not -2 #False\n",
    "not 2 #False\n",
    "not False #True\n",
    "not not True #True\n",
    "not True #False"
   ]
  },
  {
   "cell_type": "markdown",
   "id": "54103b26",
   "metadata": {},
   "source": [
    "# Operadores Ternários"
   ]
  },
  {
   "cell_type": "code",
   "execution_count": 8,
   "id": "efa9c171",
   "metadata": {},
   "outputs": [
    {
     "name": "stdout",
     "output_type": "stream",
     "text": [
      "Hoje estou com roupas molhadas.\n",
      "Hoje estou com roupas molhadas.\n"
     ]
    }
   ],
   "source": [
    "esta_chovendo = True\n",
    "#a verdadeira é sempre a mais proxima no caso 'molhadas'\n",
    "print('Hoje estou com roupas ' + ('secas.', 'molhadas.')[esta_chovendo])\n",
    "\n",
    "print('Hoje estou com roupas ' + ('molhadas.' if esta_chovendo else 'secas.'))"
   ]
  },
  {
   "cell_type": "markdown",
   "id": "7ff9e4d1",
   "metadata": {},
   "source": [
    "# Mais operadores"
   ]
  },
  {
   "cell_type": "code",
   "execution_count": null,
   "id": "bf767e56",
   "metadata": {},
   "outputs": [],
   "source": [
    "#Operador de membro\n",
    "lista = [1, 2, 3, 'Ana', 'Carla']\n",
    "2 in lista #True\n",
    "'Ana' not in lista  #false\n",
    "\n",
    "#Operador de identidade\n",
    "x = 3\n",
    "y = x\n",
    "z = 3\n",
    "x is y #True\n",
    "y is z #True\n",
    "x is not z #False\n",
    "\n",
    "lista_a = [1, 2, 3]\n",
    "lista_b = lista_a\n",
    "lista_c = [1, 2, 3]\n",
    "lista_a is lista_b #True\n",
    "lista_b is lista_c #False pq em uma lista ela cria outro armazenamento na memoria por isso não são iguais\n",
    "lista_a is not lista_c #True"
   ]
  },
  {
   "cell_type": "markdown",
   "id": "89566dd2",
   "metadata": {},
   "source": [
    "# Builtins"
   ]
  },
  {
   "cell_type": "code",
   "execution_count": 28,
   "id": "93b6536e",
   "metadata": {},
   "outputs": [
    {
     "name": "stdout",
     "output_type": "stream",
     "text": [
      "3.3333333333333335\n"
     ]
    },
    {
     "data": {
      "text/plain": [
       "13"
      ]
     },
     "execution_count": 28,
     "metadata": {},
     "output_type": "execute_result"
    }
   ],
   "source": [
    "#type()\n",
    "type(1)\n",
    "__builtins__.type('fala galera')\n",
    "__builtins__.print(10 / 3)\n",
    "\n",
    "#__builtins__.help(__builtins__.dir)\n",
    "\n",
    "\n",
    "#dir() #dir armazena as ultimas coisas feitas\n",
    "#dir(__builtins__)\n",
    "\n",
    "nome = 'João da silva'\n",
    "type(nome)\n",
    "__builtins__.len(nome) #len é calcula o tamanho da string no caso a quantidade de letras\n",
    "\n"
   ]
  },
  {
   "cell_type": "markdown",
   "id": "a5992d66",
   "metadata": {},
   "source": [
    "# Conversão de Tipos"
   ]
  },
  {
   "cell_type": "code",
   "execution_count": 2,
   "id": "15c9bc66",
   "metadata": {
    "scrolled": true
   },
   "outputs": [
    {
     "name": "stdout",
     "output_type": "stream",
     "text": [
      "5\n",
      "23\n"
     ]
    },
    {
     "data": {
      "text/plain": [
       "str"
      ]
     },
     "execution_count": 2,
     "metadata": {},
     "output_type": "execute_result"
    }
   ],
   "source": [
    "2 + 3 # 5\n",
    "'2' + '3' # 23 ele jutou as string\n",
    "#2 + '3' # Error\n",
    "#print(2 + '3') #Error \n",
    "\n",
    "a = 2\n",
    "b = '3'\n",
    "type(a) #Tipo Inteiro\n",
    "type(b) #Tipo String\n",
    "print(a + int(b)) # int(b) converteu a String em Int assim o resultado é 5\n",
    "print(str(a) + b) #convertemos o a que era INT em uma String Str assim juntando as duas resultado 23\n",
    "type(str(a))# String \n",
    "#print(2 + float('3.4'))#a conversão tem que ser para o seu tipo no caso numero não é inteiro então se usa o float"
   ]
  },
  {
   "cell_type": "markdown",
   "id": "ba0dc44a",
   "metadata": {},
   "source": [
    "# Coerção Automatica"
   ]
  },
  {
   "cell_type": "code",
   "execution_count": 22,
   "id": "a81b5657",
   "metadata": {},
   "outputs": [
    {
     "data": {
      "text/plain": [
       "float"
      ]
     },
     "execution_count": 22,
     "metadata": {},
     "output_type": "execute_result"
    }
   ],
   "source": [
    "10 / 2 \n",
    "type(10/ 2) #tipo float\n",
    "10 / 3 # 3.333\n",
    "10 // 3\n",
    "type(10 // 3) #tipo inteiro\n",
    "10 // 3.3\n",
    "type(10 // 3.3) #tipo float\n",
    "10 / 2.5\n",
    "2 + True #3\n",
    "2 + False #2\n",
    "type(1 + 2) #int\n",
    "type(1 + 2.5) # float"
   ]
  },
  {
   "cell_type": "markdown",
   "id": "677a6d5d",
   "metadata": {},
   "source": [
    "# Tipos Numericos"
   ]
  },
  {
   "cell_type": "code",
   "execution_count": 64,
   "id": "d4a5a738",
   "metadata": {},
   "outputs": [
    {
     "data": {
      "text/plain": [
       "3.6"
      ]
     },
     "execution_count": 64,
     "metadata": {},
     "output_type": "execute_result"
    }
   ],
   "source": [
    "dir(int)\n",
    "dir(float)\n",
    "\n",
    "a = 5\n",
    "b = 2.5\n",
    "a / b # mesmo sendo um numero inteniro ele sempre sai no tipo float 2.0\n",
    "a + b # 7.5 float\n",
    "a * b # 12.5 float\n",
    "\n",
    "type(a) #int\n",
    "type(b) # float\n",
    "type(a - b) #float\n",
    "\n",
    "b.is_integer() #False o b n é um int\n",
    "5.0.is_integer() #True sim ele é um inteiro pq ele ta zerado a casa decimal\n",
    "\n",
    "dir(int)\n",
    "int.__add__(2, 3) # 5\n",
    "2 + 3 # 5\n",
    "\n",
    "(-2).__abs__() #2 abs ele deixa absoluto sempre deixa positivo\n",
    "abs(-2) # 2\n",
    "\n",
    "(-3.6).__abs__() #retorna 3.6 mesmo em float\n",
    "dir(float)\n",
    "abs(-3.6) #retorna positivo\n"
   ]
  },
  {
   "cell_type": "code",
   "execution_count": 78,
   "id": "e2983e7e",
   "metadata": {},
   "outputs": [
    {
     "data": {
      "text/plain": [
       "Decimal('3.300000000')"
      ]
     },
     "execution_count": 78,
     "metadata": {},
     "output_type": "execute_result"
    }
   ],
   "source": [
    "# 1.1 + 2.2\n",
    "from decimal import Decimal, getcontext\n",
    "Decimal(1) / Decimal(7) #Decimal('0.1428571428571428571428571429')\n",
    "\n",
    "getcontext().prec = 4\n",
    "Decimal(1) / Decimal(7) #Decimal('0.1429')\n",
    "Decimal.max(Decimal(1), Decimal(7))#return 7 o numero maior\n",
    "dir(Decimal)\n",
    "\n",
    "1.1 + 2.2 # retornou 3.3000000000000003  \n",
    "getcontext().prec = 10\n",
    "Decimal(1.1) + Decimal(2.2) #return Decimal('3.300000000') 3.3\n"
   ]
  },
  {
   "cell_type": "markdown",
   "id": "58bc02d8",
   "metadata": {},
   "source": [
    "# Tipo String "
   ]
  },
  {
   "cell_type": "code",
   "execution_count": 111,
   "id": "51484b1c",
   "metadata": {},
   "outputs": [
    {
     "name": "stdout",
     "output_type": "stream",
     "text": [
      "Texto de multiplas\n",
      "\t...linhas\n",
      "Texto de multiplas\n",
      "    ...linhas\n"
     ]
    },
    {
     "data": {
      "text/plain": [
       "'também é possivel\\n... com 3 aspas simples'"
      ]
     },
     "execution_count": 111,
     "metadata": {},
     "output_type": "execute_result"
    }
   ],
   "source": [
    "dir(str)\n",
    "nome = 'Guilherme Timm'\n",
    "nome #return Guilherme Timm\n",
    "nome[0] #return a letra G posição inicial\n",
    "#nome[0] = 'P' error string é imutavel\n",
    "\n",
    "#'marca d' água' error\n",
    "\"Dias D'Avila\" == 'Dias D\\'Avila' #são iguais\n",
    "\"Teste \\\" funciona!\"\n",
    "texto = 'Texto entre apostrófos pode ter \"aspas\"'\n",
    "texto\n",
    "\n",
    "doc = \"\"\"Texto de multiplas\n",
    "    ...linhas\"\"\"\n",
    "doc #'Texto de multiplas\\n...linhas' \\n quebra linha\n",
    "\n",
    "print('Texto de multiplas\\n\\t...linhas') #\\t da um tab\n",
    "print(doc)\n",
    "\n",
    "doc2='''também é possivel\n",
    "... com 3 aspas simples'''\n",
    "doc2"
   ]
  },
  {
   "cell_type": "code",
   "execution_count": 2,
   "id": "b145bb9c",
   "metadata": {},
   "outputs": [
    {
     "data": {
      "text/plain": [
       "'aluaP anA'"
      ]
     },
     "execution_count": 2,
     "metadata": {},
     "output_type": "execute_result"
    }
   ],
   "source": [
    "nome = 'Ana Paula'\n",
    "nome[0] #'A'\n",
    "nome[6] #'u'     012345678\n",
    "nome[-2]#'l'     Ana Paula\n",
    "#                0 ...-2-1\n",
    "\n",
    "nome[4:] #ele pega o resto depois do numero return 'Paula'\n",
    "nome[-5:] #Mesma coisa só que de tras para frente no caso return 'Paula'\n",
    "nome[:3] #ele pega 0,1,2, 3 só que o 3 é \" \" ele n conta\n",
    "nome[2:5]# ele pega 2,3,4, 5 ele n conta o ultimo\n",
    "#          0123456789\n",
    "numeros = '1234567890'\n",
    "numeros   \n",
    "numeros[::]\n",
    "numeros[::2] #return '13579' ele foi pulando de 2 em 2\n",
    "numeros[1::2] #return '24680' ele foi iniciando apartir do 1 de 2 em 2\n",
    "numeros[::-1] #return '0987654321' ele inverteu a string\n",
    "numeros[::-2] #return '08642' de tras para frente de 2 em 2\n",
    "\n",
    "nome[::-1] #inverteu o nome"
   ]
  },
  {
   "cell_type": "code",
   "execution_count": 20,
   "id": "c3b5c599",
   "metadata": {},
   "outputs": [
    {
     "data": {
      "text/plain": [
       "['Python é uma linguag', 'm ', 'xc', 'l', 'nt', '']"
      ]
     },
     "execution_count": 20,
     "metadata": {},
     "output_type": "execute_result"
    }
   ],
   "source": [
    "frase = 'Python é uma linguagem excelente'\n",
    "'py' in frase #False pq letras maisculas contam tbm\n",
    "'ing' not in frase #False 'ing' está presente na linguagem\n",
    "len(frase) # tamanho de caracteres = 32\n",
    "frase.lower() #deixou tudo em letra minuscula 'python é uma linguagem excelente'\n",
    "frase.upper() #return tudo em letra maiscula 'PYTHON É UMA LINGUAGEM EXCELENTE'\n",
    "\n",
    "frase.split() #return separa em palavras['Python', 'é', 'uma', 'linguagem', 'excelente']\n",
    "frase.split('e') #return foi quebrado  a letra 'e' ['Python é uma linguag', 'm ', 'xc', 'l', 'nt', '']\n",
    "\n",
    "#dir(str) #tudo que tem dentro de string\n",
    "#help(str.center) # vereficar oq tem dentro de center\n"
   ]
  },
  {
   "cell_type": "code",
   "execution_count": 40,
   "id": "a668292d",
   "metadata": {},
   "outputs": [
    {
     "data": {
      "text/plain": [
       "True"
      ]
     },
     "execution_count": 40,
     "metadata": {},
     "output_type": "execute_result"
    }
   ],
   "source": [
    "a = '123'\n",
    "b = ' de oliveira 4'\n",
    "a + b #return '123 de oliveira 4' :---> USAR ESSA FUNÇÃO ALTO NIVEL\n",
    "#que é o mesmo que\n",
    "a.__add__(b)#return '123 de oliveira 4'\n",
    "str.__add__(a,b)#return '123 de oliveira 4'\n",
    "\n",
    "dir(str)\n",
    "len(a) # return 3 :---> USAR ASSIM\n",
    "a.__len__() #return 3 que é a mesma coisa que o exemplo acima\n",
    "'1' in a #True 1 está presente na variavel a\n",
    "#que é a mesma coisa que\n",
    "a.__contains__('1') #True"
   ]
  },
  {
   "cell_type": "markdown",
   "id": "7a28d2e3",
   "metadata": {},
   "source": [
    "# Lista\n",
    "É delimitado por [], indexado cada elemento tem um indice tipo 0 1 2 3...,aceita repetições pode colocar valores iguais,segue a ordem de inserção quando é dato append os elementos são ordenados"
   ]
  },
  {
   "cell_type": "code",
   "execution_count": 60,
   "id": "b47678b5",
   "metadata": {},
   "outputs": [
    {
     "data": {
      "text/plain": [
       "['Bia', 'Ana', 1]"
      ]
     },
     "execution_count": 60,
     "metadata": {},
     "output_type": "execute_result"
    }
   ],
   "source": [
    "lista = [] #para definir uma lista se usa um par de []\n",
    "type(lista)\n",
    "dir(lista)\n",
    "len(lista) #tamanho da lista 0\n",
    "lista.append(1) #adiciona 1 na lista\n",
    "lista.append(5) #adiciona 5 na lista\n",
    "lista.append([1, 2 ,3]) #foi adificiona uma lista dentro de outra lista\n",
    "lista # está retornando [1, 5, [1, 2, 3]]\n",
    "len(lista) # agora o tamanho é 2\n",
    "\n",
    "nova_lista = [1, 5, 'Ana', 'Bia']\n",
    "nova_lista #return [1, 5, 'Ana', 'Bia'] :--> NÃO É UMA BOA PRATICA MISTURAR STRING COM INT,FLOAT... LISTA HETEROGÊNEA\n",
    "nova_lista.remove(5) #removeu o elemento 5\n",
    "nova_lista #return  [1, 'Ana', 'Bia']\n",
    "nova_lista.reverse() #reverteu a lista\n",
    "nova_lista #return  ['Bia', 'Ana', 1]"
   ]
  },
  {
   "cell_type": "code",
   "execution_count": 80,
   "id": "8af0fa4a",
   "metadata": {},
   "outputs": [
    {
     "data": {
      "text/plain": [
       "1"
      ]
     },
     "execution_count": 80,
     "metadata": {},
     "output_type": "execute_result"
    }
   ],
   "source": [
    "lista = [1, 5, 'Rebeca', 'Guilherme', 3.1415]\n",
    "lista.index('Guilherme') # verefica a posição que o Guilherme está na lista no caso é a 3 começa do 0,1,2,3,4.....\n",
    "#ista.index('42') vai gerar um error pelo fato do elemento 42 não existir\n",
    "lista[2] #return 'Rebeca'\n",
    "1 in lista #True o 1 consta na lista...\n",
    "'Rebeca' in lista # return True pq ela contra na lista\n",
    "'Pedro' not in lista #True Pedro não está na lista...\n",
    "lista[0] #return 1 que é o primeiro da lista\n",
    "lista[4] #return 3.1415\n",
    "#lista[5] ERROR o limite desta lista está em 4\n",
    "lista[-1] #pega o ultimo elemento da lista no caso 0,1,2,3,4... :--->   <---: ... -5,-4,-3,-2,-1\n",
    "lista[-5] #return 1"
   ]
  },
  {
   "cell_type": "code",
   "execution_count": 105,
   "id": "f3ea0300",
   "metadata": {},
   "outputs": [
    {
     "data": {
      "text/plain": [
       "['Ana']"
      ]
     },
     "execution_count": 105,
     "metadata": {},
     "output_type": "execute_result"
    }
   ],
   "source": [
    "#indice    0      1      2       3        4\n",
    "lista = ['Ana', 'Lia', 'Rui', 'Paulo', 'Dani']\n",
    "#indice-  -5      -4     -3     -2       -1      \n",
    "\n",
    "lista[1:3] #return ['Lia', 'Rui'] no caso elemento 1, 2 o 3 não entra\n",
    "lista[1:-1] #return ['Lia', 'Rui', 'Paulo'] no caso entrou o 1,2,3 o -1 seria 'Dani' ele não entra\n",
    "lista[1:] #return ['Lia', 'Rui', 'Paulo', 'Dani'] no caso entrou 1,2,3,4 ou seja do 1 até o final\n",
    "lista[:-1] #return ['Ana', 'Lia', 'Rui', 'Paulo'] no caso entrou -5,-4,-3,-2 o -1 n entra\n",
    "lista[:] #return ['Ana', 'Lia', 'Rui', 'Paulo', 'Dani'] retorna toda lista\n",
    "lista[::2] #return ['Ana', 'Rui', 'Dani'] ou seja ele pula sempre o segundo(2) elemento 'Lia' e 'Paulo'\n",
    "lista[::-1] #return ['Dani', 'Paulo', 'Rui', 'Lia', 'Ana'] ou seja ele inverteu a lista\n",
    "del lista[2] #deletou o indice 2='Rui'\n",
    "lista #return ['Ana', 'Lia', 'Paulo', 'Dani']\n",
    "del lista[1:] #deleta tudo a partir do numero 1 = 'Lia', 'Rui', 'Paulo', 'Dani'\n",
    "lista #return ['Ana']"
   ]
  },
  {
   "cell_type": "markdown",
   "id": "7938244b",
   "metadata": {},
   "source": [
    "# Tuplas\n",
    "É delimitado por (), não pode ser modificada, alterar elementos ou excluir não pode"
   ]
  },
  {
   "cell_type": "code",
   "execution_count": 26,
   "id": "35d00cba",
   "metadata": {},
   "outputs": [
    {
     "data": {
      "text/plain": [
       "4"
      ]
     },
     "execution_count": 26,
     "metadata": {},
     "output_type": "execute_result"
    }
   ],
   "source": [
    "tupla = tuple() # para definir uma tupla é um par de ()\n",
    "tupla = ()\n",
    "type(tupla) #tuple\n",
    "dir(tuple)\n",
    "#help(tuple)\n",
    "tupla = ('um') #assim é uma string CUIDADO!!!!\n",
    "type(tupla) #string\n",
    "tupla = ('um',) # com a (,) apos se torna uma tuple, NO CASO SE FOR UMA TUPLE DE UM UNICO ELEMENTO USAR A ,\n",
    "type(tupla) #tuple\n",
    "tupla[0] #return 'um'\n",
    "#tupla[0] = 'novo' #error não tem como alterar\n",
    "cores = ('verde', 'amarelo', 'azul', 'branco')\n",
    "cores[0] #return 'verde'\n",
    "cores[-1]#return 'branco' ultimo elemento\n",
    "cores[1:] #return ('amarelo', 'azul', 'branco')\n",
    "\n",
    "cores.index('amarelo') #return 1 = indice 1 verefirca a posição\n",
    "cores.count('azul') #return 1 = verefica quantos elementos tem na cor 'azul'\n",
    "len(cores) #return 4 =  verefica o tamanho da tupla"
   ]
  },
  {
   "cell_type": "markdown",
   "id": "6553d826",
   "metadata": {},
   "source": [
    "# Dicionário\n",
    "-É delimitado por {}, é chave + valor, é indexada por string,"
   ]
  },
  {
   "cell_type": "code",
   "execution_count": 1,
   "id": "60e56822",
   "metadata": {},
   "outputs": [
    {
     "data": {
      "text/plain": [
       "[]"
      ]
     },
     "execution_count": 1,
     "metadata": {},
     "output_type": "execute_result"
    }
   ],
   "source": [
    "# se usa um par de {} para dicionario ESTRUTURA CHAVE + VALOR\n",
    "pessoa = {'nome': 'Prof(a).Ana', 'idade': 38, 'cursos': ['Ingles', 'Portugues']}\n",
    "type(pessoa) #return dict = dicionario\n",
    "dir(dict)\n",
    "len(pessoa) #return 3\n",
    "\n",
    "pessoa\n",
    "pessoa['nome'] #return 'Prof(a).Ana'\n",
    "pessoa['idade'] #return 38\n",
    "pessoa['cursos'] #return ['Ingles', 'Portugues']\n",
    "pessoa['cursos'][1] #return  'Portugues'\n",
    "pessoa['cursos'][0] #return  'Ingles'\n",
    "pessoa.keys()#return dict_keys(['nome', 'idade', 'cursos']) pega as chaves do dicionario\n",
    "pessoa.values()#return dict_values(['Prof(a).Ana', 38, ['Ingles', 'Portugues']]) pega todos valores\n",
    "pessoa.items()#return dict_items([('nome', 'Prof(a).Ana'), ('idade', 38), ('cursos', ['Ingles', 'Portugues'])]) chave valor\n",
    "pessoa.get('idade') #return 38\n",
    "pessoa.get('lalala',[]) #return [] que é um valor default pq eu n tenho um valor 'lalala'"
   ]
  },
  {
   "cell_type": "code",
   "execution_count": 18,
   "id": "4b47f38c",
   "metadata": {},
   "outputs": [
    {
     "data": {
      "text/plain": [
       "{}"
      ]
     },
     "execution_count": 18,
     "metadata": {},
     "output_type": "execute_result"
    }
   ],
   "source": [
    "pessoa = {'nome': 'Prof.Alberto', 'idade': 43, 'cursos': ['React', 'Phyton']} #outro diciionario\n",
    "pessoa['idade'] = 44 #alterei a idade para 44\n",
    "pessoa['cursos'].append('Angular') #adicionei em cursos 'angular'\n",
    "pessoa # retuen {'nome': 'Prof.Alberto', 'idade': 44, 'cursos': ['React', 'Phyton', 'Angular']}\n",
    "\n",
    "pessoa.pop('idade') #pop retira o valor\n",
    "pessoa # return sem a idade agora {'nome': 'Prof.Alberto', 'cursos': ['React', 'Phyton', 'Angular']}\n",
    "pessoa.update({'idade': 40, 'Sexo': 'M'}) #update adicionou a idade e tbm o sexo # return \n",
    "pessoa # return {'nome': 'Prof.Alberto','cursos': ['React', 'Phyton', 'Angular'],'idade': 40,'Sexo': 'M'}\n",
    "del pessoa['cursos'] # deletou chave curso\n",
    "pessoa # return {'nome': 'Prof.Alberto', 'idade': 40, 'Sexo': 'M'}\n",
    "pessoa.clear() #limpa o dicionario\n",
    "pessoa #return {} pq foi limpo com o clear"
   ]
  },
  {
   "cell_type": "markdown",
   "id": "c424ba11",
   "metadata": {},
   "source": [
    "# Conjuntos (Set)\n",
    "é usado por {} mas não é um dicionario, é apenas valores, não garante a ordem de inserção, não é indexado não tem indice, não aceita repetições valore iguais são ignorados "
   ]
  },
  {
   "cell_type": "code",
   "execution_count": 41,
   "id": "276737bc",
   "metadata": {},
   "outputs": [
    {
     "name": "stdout",
     "output_type": "stream",
     "text": [
      "{'3', 'c', 'd', 'r', 'o'}\n",
      "True True\n"
     ]
    },
    {
     "data": {
      "text/plain": [
       "{1}"
      ]
     },
     "execution_count": 41,
     "metadata": {},
     "output_type": "execute_result"
    }
   ],
   "source": [
    "a = {1, 2, 3} #conjunto set\n",
    "type(a) #set\n",
    "#a[0] error ela não aceita indice\n",
    "a = set('codddd3r') #ele só vai colocar um r somente o resto é ignorado\n",
    "print(a)#return {'c', 'd', 'e', 'o', 'r'} não tem ordem\n",
    "print('3' in a, 4 not in a) #return True True\n",
    "{1, 2, 3} == {3, 1, 2, 3} #return True pq o 3 é repetido ele sempre conta 1 igual\n",
    "\n",
    "#operacoes \n",
    "c1 = {1, 2}\n",
    "c2 = {2, 3}\n",
    "c1.union(c2) # return {1, 2, 3} ele cria um outro conjunto sendo que o 2 é repetido ele conta somente um\n",
    "c1.intersection(c2) #return {2} pelo fato de ser o unico que tem repetido nos conjuntos\n",
    "#c1.update(c2) #ele alterou o conjunto c1 para {1, 2, 3}\n",
    "c1 #c1 agora é {1, 2, 3}  por conta do updatepor causa do update\n",
    "c2 <= c1 #false pq o 3 não está no c1\n",
    "c1 >= c2 #mesma coisa que o anterior\n",
    "\n",
    "{1, 2, 3} - {2} #diferenta entre os conjuntos  {1, 3}\n",
    "c1 - c2 #return {1}\n",
    "c1 -={2} #retirou o elemento 2\n",
    "c1 #return {1}"
   ]
  },
  {
   "cell_type": "markdown",
   "id": "6ffe86d0",
   "metadata": {},
   "source": [
    "# Interpolação\n",
    "interporlar é substituir valores dentro da string"
   ]
  },
  {
   "cell_type": "code",
   "execution_count": 57,
   "id": "612e5550",
   "metadata": {},
   "outputs": [
    {
     "name": "stdout",
     "output_type": "stream",
     "text": [
      "Nome: Ana Idade: 30\n",
      "Nome: Ana Idade: 30\n",
      "Nome: Ana Idade: 30\n",
      "Nome: Ana Idade: 30\n"
     ]
    }
   ],
   "source": [
    "from string  import Template\n",
    "\n",
    "nome, idade = 'Ana', 30\n",
    "# %s string\n",
    "# %d inteiro\n",
    "# %f float, caso queira arredondar %2.f duas casas\n",
    "# %r %s True False se for usar %d ele retorna numero binario 0 ou 1\n",
    "print('Nome: %s Idade: %d' %(nome, idade)) #versão mais antiga \n",
    "print('Nome: {0} Idade: {1}'.format(nome,idade)) #phyton versão < 3.6\n",
    "print(f'Nome: {nome} Idade: {idade}') #versão mais atual phyton > 3.6\n",
    "\n",
    "s = Template('Nome: $n Idade: $i')\n",
    "print(s.substitute(n=nome, i=idade))\n"
   ]
  }
 ],
 "metadata": {
  "kernelspec": {
   "display_name": "Python 3 (ipykernel)",
   "language": "python",
   "name": "python3"
  },
  "language_info": {
   "codemirror_mode": {
    "name": "ipython",
    "version": 3
   },
   "file_extension": ".py",
   "mimetype": "text/x-python",
   "name": "python",
   "nbconvert_exporter": "python",
   "pygments_lexer": "ipython3",
   "version": "3.11.7"
  }
 },
 "nbformat": 4,
 "nbformat_minor": 5
}
